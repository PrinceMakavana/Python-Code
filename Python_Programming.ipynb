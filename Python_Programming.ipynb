# Program - 9
thisset = {"apple" , "banana" , "cherry"}
thisIsset = set(("apple" , "banana" , "cherry"))

for x in thisIsset : 
  print("x =  " + x)  
print("banana" in thisset)

thisset.add("orange")
print(thisset)

thisset.update(["orange" , "mango" , "grapes"])
print(thisset)

print(len(thisset))

thisset.remove("banana")
print(thisset)

thisset.discard("banana")
print(thisset)

x = thisset.pop()
print(x)
print(thisset)

thisset.clear()
print(thisset)

thisset = {"apple" , "banana" , "cherry"}
del (thisset)

set1 = {"a" , "b" , "c"}
set2 = {1 , 2 ,3}
set3 = set1.union(set2)
print(set3)


set1 = {"a" , "b" , "c"}
set2 = {1 , 2 ,3}
set1.update(set2)
print(set1)

print(thisIsset)







# Progaram : 10

mobile = ['OnePlus' , 'Samsung' , 'blackberry' , 'apple' ]
fruit = { 'apple' , 'banana' , 'blackberry'}
car = {
    "brand" : "porsche",
    "model": "911",
    "year":2010
}

mobile.append(car['model'])
print(mobile)

for i in fruit:
  if i in mobile:
    print(i)



# Program : 11

!git clone https://github.com/scikit-learn/scikit-learn.git

# Program 12 : Write a Program that reads a .csv dataset file using Pandas library and display the following content of the dataset.

import pandas as pd
import numpy as np

file = pd.read_csv('https://raw.githubusercontent.com/mwaskom/seaborn-data/master/diamonds.csv')

#12.1 : First Three rows of the dataset
print('12.1 : First Three rows of the dataset')
print()
print(file.iloc[:])
dict = {'First Score':[100,90,np.nan,95],
        'Second Score':[30 , 45 , 56 , np.nan],
        'Third Score' :[np.nan , 40 , 80 , 98]}

df = pd.DataFrame(dict)

print()
print('12.2 : Fill the missing data of the Dataset')
print()

df.fillna(method='pad')
print()


print()
print('12.2 : Summary or metadata of the Dataset')
print()

print(df.info())


# Program - 13 : Write a program that show application of slicing and dicing over the rowa and colums of the dataset

import pandas as pd
import numpy as np

dict = { 'First Score':[100,90,np.nan,95],
        'Second Score':[30,45,56,np.nan],
        'Third Score':[np.nan,40,80,98]
}
df = pd.DataFrame(dict)

#13.1
df.iloc[0:4,1:3]

#13.2
df.iloc[1:3,0:2]

#13.3
df.loc[0:4]
